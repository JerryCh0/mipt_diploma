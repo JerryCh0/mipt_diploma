{
 "cells": [
  {
   "cell_type": "code",
   "execution_count": 1,
   "metadata": {},
   "outputs": [
    {
     "name": "stderr",
     "output_type": "stream",
     "text": [
      "Using TensorFlow backend.\n"
     ]
    },
    {
     "name": "stdout",
     "output_type": "stream",
     "text": [
      "TensorFlow version: 1.13.1\n",
      "Keras version: 2.1.3\n"
     ]
    }
   ],
   "source": [
    "import keras\n",
    "import tensorflow as tf\n",
    "print('TensorFlow version:', tf.__version__)\n",
    "print('Keras version:', keras.__version__)"
   ]
  },
  {
   "cell_type": "code",
   "execution_count": 2,
   "metadata": {},
   "outputs": [],
   "source": [
    "import os\n",
    "from os.path import join\n",
    "import json\n",
    "import random\n",
    "import itertools\n",
    "import re\n",
    "import datetime\n",
    "import cairocffi as cairo\n",
    "import editdistance\n",
    "import numpy as np\n",
    "from scipy import ndimage\n",
    "import pylab\n",
    "import matplotlib.pyplot as plt\n",
    "import matplotlib.gridspec as gridspec\n",
    "from keras import backend as K\n",
    "from keras.layers.convolutional import Conv2D, MaxPooling2D\n",
    "from keras.layers import Input, Dense, Activation\n",
    "from keras.layers import Reshape, Lambda\n",
    "from keras.layers.merge import add, concatenate\n",
    "from keras.models import Model, load_model\n",
    "from keras.layers.recurrent import GRU\n",
    "from keras.optimizers import SGD\n",
    "from keras.utils.data_utils import get_file\n",
    "from keras.preprocessing import image\n",
    "import keras.callbacks\n",
    "import cv2"
   ]
  },
  {
   "cell_type": "code",
   "execution_count": 3,
   "metadata": {},
   "outputs": [],
   "source": [
    "sess = tf.Session(config=tf.ConfigProto(log_device_placement=True, allow_soft_placement=True))\n",
    "K.set_session(sess)"
   ]
  },
  {
   "cell_type": "code",
   "execution_count": 4,
   "metadata": {},
   "outputs": [
    {
     "name": "stdout",
     "output_type": "stream",
     "text": [
      "WARNING:tensorflow:From /home/klabertants/anaconda3/envs/apnr_env/lib/python3.7/site-packages/tensorflow/python/framework/op_def_library.py:263: colocate_with (from tensorflow.python.framework.ops) is deprecated and will be removed in a future version.\n",
      "Instructions for updating:\n",
      "Colocations handled automatically by placer.\n",
      "WARNING:tensorflow:From /home/klabertants/anaconda3/envs/apnr_env/lib/python3.7/site-packages/keras/backend/tensorflow_backend.py:3939: to_int32 (from tensorflow.python.ops.math_ops) is deprecated and will be removed in a future version.\n",
      "Instructions for updating:\n",
      "Use tf.cast instead.\n",
      "WARNING:tensorflow:From /home/klabertants/anaconda3/envs/apnr_env/lib/python3.7/site-packages/keras/backend/tensorflow_backend.py:3919: to_int64 (from tensorflow.python.ops.math_ops) is deprecated and will be removed in a future version.\n",
      "Instructions for updating:\n",
      "Use tf.cast instead.\n",
      "WARNING:tensorflow:From /home/klabertants/anaconda3/envs/apnr_env/lib/python3.7/site-packages/tensorflow/python/ops/math_grad.py:102: div (from tensorflow.python.ops.math_ops) is deprecated and will be removed in a future version.\n",
      "Instructions for updating:\n",
      "Deprecated in favor of operator or tf.math.divide.\n",
      "WARNING:tensorflow:Variable *= will be deprecated. Use `var.assign(var * other)` if you want assignment to the variable value or `x = x * y` if you want a new python Tensor object.\n"
     ]
    }
   ],
   "source": [
    "model = load_model(\n",
    "    \"keras-master/examples/image_ocr/2019:05:08:14:27:10/model24.h5\", \n",
    "    custom_objects={'<lambda>': keras.losses.mse})"
   ]
  },
  {
   "cell_type": "code",
   "execution_count": 5,
   "metadata": {},
   "outputs": [],
   "source": [
    "cutted_model = Model(model.input, model.layers[-1].output)\n",
    "\n",
    "cutted_model.layers.pop()\n",
    "cutted_model.layers.pop()\n",
    "cutted_model.layers.pop()\n",
    "cutted_model.layers.pop()\n",
    "\n",
    "cutted_model = Model(cutted_model.input[0], cutted_model.layers[-1].output)"
   ]
  },
  {
   "cell_type": "code",
   "execution_count": 6,
   "metadata": {},
   "outputs": [
    {
     "name": "stderr",
     "output_type": "stream",
     "text": [
      "WARNING:root:TensorFlow version 1.13.1 detected. Last version known to be fully compatible is 1.5.0 .\n"
     ]
    },
    {
     "name": "stdout",
     "output_type": "stream",
     "text": [
      "0 : the_input, <keras.engine.topology.InputLayer object at 0x7f11f83389e8>\n",
      "1 : conv1, <keras.layers.convolutional.Conv2D object at 0x7f11f8338a58>\n",
      "2 : conv1__activation__, <keras.layers.core.Activation object at 0x7f11f8331940>\n",
      "3 : max1, <keras.layers.pooling.MaxPooling2D object at 0x7f11f8338cf8>\n",
      "4 : conv2, <keras.layers.convolutional.Conv2D object at 0x7f11f8338d30>\n",
      "5 : conv2__activation__, <keras.layers.core.Activation object at 0x7f11f83318d0>\n",
      "6 : max2, <keras.layers.pooling.MaxPooling2D object at 0x7f11f8338f28>\n",
      "7 : reshape, <keras.layers.core.Reshape object at 0x7f1220da4ba8>\n",
      "8 : dense1, <keras.layers.core.Dense object at 0x7f11f82d0048>\n",
      "9 : dense1__activation__, <keras.layers.core.Activation object at 0x7f1197cad1d0>\n",
      "10 : gru1, <keras.layers.recurrent.GRU object at 0x7f11f82d0198>\n",
      "11 : gru1_b, <keras.layers.recurrent.GRU object at 0x7f11f82d0400>\n",
      "12 : add_2, <keras.layers.merge.Add object at 0x7f11f82d05c0>\n",
      "13 : gru2_b, <keras.layers.recurrent.GRU object at 0x7f11f82d05f8>\n",
      "14 : dense2, <keras.layers.core.Dense object at 0x7f11f82d07b8>\n",
      "15 : softmax, <keras.layers.core.Activation object at 0x7f11f82d0908>\n"
     ]
    }
   ],
   "source": [
    "import coremltools\n",
    "\n",
    "coreml_model = coremltools.converters.keras.convert(cutted_model)\n",
    "\n",
    "coreml_model.author = \"klabertants\"\n",
    "coreml_model.license = \"Public Domain\"\n",
    "coreml_model.short_description = \"OCR with keras\"\n",
    "\n",
    "#coreml_model.input_description[\"image\"] = \"Input image\"\n",
    "#coreml_model.output_description[\"output\"] = \"Predicted text\"\n",
    "\n",
    "coreml_model.save(\"keras_ocr.mlmodel\")"
   ]
  },
  {
   "cell_type": "code",
   "execution_count": 7,
   "metadata": {},
   "outputs": [
    {
     "data": {
      "text/plain": [
       "<matplotlib.image.AxesImage at 0x7f1197c27400>"
      ]
     },
     "execution_count": 7,
     "metadata": {},
     "output_type": "execute_result"
    },
    {
     "data": {
      "image/png": "[encoded data removed]",
      "text/plain": [
       "<Figure size 432x288 with 1 Axes>"
      ]
     },
     "metadata": {
      "needs_background": "light"
     },
     "output_type": "display_data"
    }
   ],
   "source": [
    "img = cv2.imread(\"gm.png\")\n",
    "img = cv2.cvtColor(img, cv2.COLOR_BGR2GRAY)\n",
    "img = cv2.resize(img, (512, 64))\n",
    "img = img.astype(np.float32)\n",
    "img /= 255\n",
    "\n",
    "plt.imshow(img, cmap='gray')"
   ]
  },
  {
   "cell_type": "code",
   "execution_count": 8,
   "metadata": {},
   "outputs": [],
   "source": [
    "imgs = np.zeros((1, 512, 64, 1))\n",
    "imgs[0, :, :, 0] = img.T"
   ]
  },
  {
   "cell_type": "code",
   "execution_count": 9,
   "metadata": {},
   "outputs": [],
   "source": [
    "net_inp = model.get_layer(name='the_input').input\n",
    "net_out = model.get_layer(name='softmax').output"
   ]
  },
  {
   "cell_type": "code",
   "execution_count": 10,
   "metadata": {},
   "outputs": [],
   "source": [
    "net_out_value = sess.run(net_out, feed_dict={net_inp:imgs})"
   ]
  },
  {
   "cell_type": "code",
   "execution_count": 11,
   "metadata": {},
   "outputs": [],
   "source": [
    "# For a real OCR application, this should be beam search with a dictionary\n",
    "# and language model.  For this example, best path is sufficient.\n",
    "alph = 'abcdefghijklmnopqrstuvwxyz '\n",
    "def decode_batch(out):\n",
    "    ret = []\n",
    "    for j in range(out.shape[0]):\n",
    "        ret.append(alph[np.argmax(out[j, 1:])])\n",
    "    return [k for k, g in itertools.groupby(ret)]"
   ]
  },
  {
   "cell_type": "code",
   "execution_count": 12,
   "metadata": {},
   "outputs": [
    {
     "data": {
      "text/plain": [
       "[' ',\n",
       " 'q',\n",
       " ' ',\n",
       " 'd',\n",
       " ' ',\n",
       " 'r',\n",
       " ' ',\n",
       " 'o',\n",
       " ' ',\n",
       " 'd',\n",
       " ' ',\n",
       " 'b',\n",
       " ' ',\n",
       " 's',\n",
       " ' ',\n",
       " 'd',\n",
       " ' ',\n",
       " 'c',\n",
       " ' ']"
      ]
     },
     "execution_count": 12,
     "metadata": {},
     "output_type": "execute_result"
    }
   ],
   "source": [
    "decode_batch(net_out_value[0])"
   ]
  },
  {
   "cell_type": "code",
   "execution_count": 13,
   "metadata": {},
   "outputs": [
    {
     "data": {
      "text/plain": [
       "' q d r o d b s d c '"
      ]
     },
     "execution_count": 13,
     "metadata": {},
     "output_type": "execute_result"
    }
   ],
   "source": [
    "\"\".join(decode_batch(net_out_value[0]))"
   ]
  },
  {
   "cell_type": "code",
   "execution_count": null,
   "metadata": {},
   "outputs": [],
   "source": []
  }
 ],
 "metadata": {
  "kernelspec": {
   "display_name": "Python 3",
   "language": "python",
   "name": "python3"
  },
  "language_info": {
   "codemirror_mode": {
    "name": "ipython",
    "version": 3
   },
   "file_extension": ".py",
   "mimetype": "text/x-python",
   "name": "python",
   "nbconvert_exporter": "python",
   "pygments_lexer": "ipython3",
   "version": "3.7.3"
  }
 },
 "nbformat": 4,
 "nbformat_minor": 2
}
